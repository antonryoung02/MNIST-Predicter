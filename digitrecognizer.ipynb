{
 "cells": [
  {
   "cell_type": "code",
   "execution_count": 1,
   "id": "f6e7542f",
   "metadata": {
    "_cell_guid": "b1076dfc-b9ad-4769-8c92-a6c4dae69d19",
    "_uuid": "8f2839f25d086af736a60e9eeb907d3b93b6e0e5",
    "execution": {
     "iopub.execute_input": "2022-09-30T19:41:43.674622Z",
     "iopub.status.busy": "2022-09-30T19:41:43.673488Z",
     "iopub.status.idle": "2022-09-30T19:41:43.692867Z",
     "shell.execute_reply": "2022-09-30T19:41:43.691687Z"
    },
    "papermill": {
     "duration": 0.030767,
     "end_time": "2022-09-30T19:41:43.696460",
     "exception": false,
     "start_time": "2022-09-30T19:41:43.665693",
     "status": "completed"
    },
    "tags": []
   },
   "outputs": [
    {
     "name": "stdout",
     "output_type": "stream",
     "text": [
      "/kaggle/input/digit-recognizer/sample_submission.csv\n",
      "/kaggle/input/digit-recognizer/train.csv\n",
      "/kaggle/input/digit-recognizer/test.csv\n"
     ]
    }
   ],
   "source": [
    "# This Python 3 environment comes with many helpful analytics libraries installed\n",
    "# It is defined by the kaggle/python Docker image: https://github.com/kaggle/docker-python\n",
    "# For example, here's several helpful packages to load\n",
    "\n",
    "import numpy as np # linear algebra\n",
    "import pandas as pd # data processing, CSV file I/O (e.g. pd.read_csv)\n",
    "\n",
    "# Input data files are available in the read-only \"../input/\" directory\n",
    "# For example, running this (by clicking run or pressing Shift+Enter) will list all files under the input directory\n",
    "\n",
    "import os\n",
    "for dirname, _, filenames in os.walk('/kaggle/input'):\n",
    "    for filename in filenames:\n",
    "        print(os.path.join(dirname, filename))\n",
    "\n",
    "# You can write up to 20GB to the current directory (/kaggle/working/) that gets preserved as output when you create a version using \"Save & Run All\" \n",
    "# You can also write temporary files to /kaggle/temp/, but they won't be saved outside of the current session"
   ]
  },
  {
   "cell_type": "code",
   "execution_count": 2,
   "id": "5af2a39b",
   "metadata": {
    "execution": {
     "iopub.execute_input": "2022-09-30T19:41:43.707332Z",
     "iopub.status.busy": "2022-09-30T19:41:43.706547Z",
     "iopub.status.idle": "2022-09-30T19:41:54.949335Z",
     "shell.execute_reply": "2022-09-30T19:41:54.947982Z"
    },
    "papermill": {
     "duration": 11.252144,
     "end_time": "2022-09-30T19:41:54.953021",
     "exception": false,
     "start_time": "2022-09-30T19:41:43.700877",
     "status": "completed"
    },
    "tags": []
   },
   "outputs": [],
   "source": [
    "import tensorflow as tf\n",
    "from tensorflow.keras import Sequential\n",
    "from tensorflow.keras.layers import Dense, Conv2D, MaxPooling2D, Flatten\n",
    "from tensorflow.keras.losses import SparseCategoricalCrossentropy\n",
    "from sklearn.model_selection import cross_val_score, train_test_split"
   ]
  },
  {
   "cell_type": "code",
   "execution_count": 3,
   "id": "62f443d7",
   "metadata": {
    "execution": {
     "iopub.execute_input": "2022-09-30T19:41:54.975302Z",
     "iopub.status.busy": "2022-09-30T19:41:54.972808Z",
     "iopub.status.idle": "2022-09-30T19:41:58.947728Z",
     "shell.execute_reply": "2022-09-30T19:41:58.946264Z"
    },
    "papermill": {
     "duration": 3.98767,
     "end_time": "2022-09-30T19:41:58.950199",
     "exception": false,
     "start_time": "2022-09-30T19:41:54.962529",
     "status": "completed"
    },
    "tags": []
   },
   "outputs": [
    {
     "data": {
      "text/plain": [
       "(42000, 785)"
      ]
     },
     "execution_count": 3,
     "metadata": {},
     "output_type": "execute_result"
    }
   ],
   "source": [
    "train_file = \"/kaggle/input/digit-recognizer/train.csv\"\n",
    "data = pd.read_csv(train_file)\n",
    "data.shape"
   ]
  },
  {
   "cell_type": "code",
   "execution_count": 4,
   "id": "dc801767",
   "metadata": {
    "execution": {
     "iopub.execute_input": "2022-09-30T19:41:58.960633Z",
     "iopub.status.busy": "2022-09-30T19:41:58.960171Z",
     "iopub.status.idle": "2022-09-30T19:42:00.271956Z",
     "shell.execute_reply": "2022-09-30T19:42:00.270258Z"
    },
    "papermill": {
     "duration": 1.32076,
     "end_time": "2022-09-30T19:42:00.275382",
     "exception": false,
     "start_time": "2022-09-30T19:41:58.954622",
     "status": "completed"
    },
    "tags": []
   },
   "outputs": [
    {
     "name": "stdout",
     "output_type": "stream",
     "text": [
      "(33600, 28, 28, 1) (33600, 1)\n"
     ]
    },
    {
     "name": "stderr",
     "output_type": "stream",
     "text": [
      "2022-09-30 19:41:59.866995: I tensorflow/core/common_runtime/process_util.cc:146] Creating new thread pool with default inter op setting: 2. Tune using inter_op_parallelism_threads for best performance.\n"
     ]
    }
   ],
   "source": [
    "X = data.drop(['label'], axis=1).values\n",
    "y = data['label'].values\n",
    "X_train, X_test, y_train, y_test = train_test_split(X, y, test_size=0.2, random_state=1)\n",
    "\n",
    "X_train = tf.reshape(X_train, [33600,28,28,1])\n",
    "X_test = tf.reshape(X_test, [8400,28,28,1])\n",
    "y_train = tf.reshape(y_train, [33600,1])\n",
    "y_test = tf.reshape(y_test, [8400,1])\n",
    "\n",
    "Input_shape=(28,28,1) \n",
    "print(X_train.shape, y_train.shape)"
   ]
  },
  {
   "cell_type": "code",
   "execution_count": 5,
   "id": "874dde53",
   "metadata": {
    "execution": {
     "iopub.execute_input": "2022-09-30T19:42:00.288058Z",
     "iopub.status.busy": "2022-09-30T19:42:00.287463Z",
     "iopub.status.idle": "2022-09-30T19:42:00.442135Z",
     "shell.execute_reply": "2022-09-30T19:42:00.440201Z"
    },
    "papermill": {
     "duration": 0.164582,
     "end_time": "2022-09-30T19:42:00.445041",
     "exception": false,
     "start_time": "2022-09-30T19:42:00.280459",
     "status": "completed"
    },
    "tags": []
   },
   "outputs": [
    {
     "name": "stdout",
     "output_type": "stream",
     "text": [
      "(33600, 28, 28, 1)\n"
     ]
    }
   ],
   "source": [
    "print(X_train.shape)\n",
    "model = Sequential((\n",
    "Conv2D(filters=32,kernel_size=(4,4), strides=1,padding='same',activation='relu',input_shape =(28,28,1)),\n",
    "MaxPooling2D((2,2)),\n",
    "Conv2D(filters=64,kernel_size=(4,4), strides=1,padding='same',activation='relu'),\n",
    "MaxPooling2D((2,2)),\n",
    "Conv2D(filters=128,kernel_size=(4,4), strides=1,padding='valid',activation='relu'),\n",
    "MaxPooling2D((2,2)),\n",
    "Flatten(),\n",
    "Dense(units=50, activation='relu'),\n",
    "Dense(units=10, activation='softmax')\n",
    "))\n",
    "\n",
    "model.compile(loss=SparseCategoricalCrossentropy(), optimizer='Adam')"
   ]
  },
  {
   "cell_type": "code",
   "execution_count": 6,
   "id": "1f898519",
   "metadata": {
    "execution": {
     "iopub.execute_input": "2022-09-30T19:42:00.456425Z",
     "iopub.status.busy": "2022-09-30T19:42:00.455995Z",
     "iopub.status.idle": "2022-09-30T19:44:29.896183Z",
     "shell.execute_reply": "2022-09-30T19:44:29.895085Z"
    },
    "papermill": {
     "duration": 149.448557,
     "end_time": "2022-09-30T19:44:29.898598",
     "exception": false,
     "start_time": "2022-09-30T19:42:00.450041",
     "status": "completed"
    },
    "tags": []
   },
   "outputs": [
    {
     "name": "stderr",
     "output_type": "stream",
     "text": [
      "2022-09-30 19:42:00.545919: I tensorflow/compiler/mlir/mlir_graph_optimization_pass.cc:185] None of the MLIR Optimization Passes are enabled (registered 2)\n"
     ]
    },
    {
     "name": "stdout",
     "output_type": "stream",
     "text": [
      "Epoch 1/5\n",
      "1050/1050 [==============================] - 31s 28ms/step - loss: 0.6114\n",
      "Epoch 2/5\n",
      "1050/1050 [==============================] - 30s 28ms/step - loss: 0.1067\n",
      "Epoch 3/5\n",
      "1050/1050 [==============================] - 30s 28ms/step - loss: 0.0658\n",
      "Epoch 4/5\n",
      "1050/1050 [==============================] - 30s 28ms/step - loss: 0.0452\n",
      "Epoch 5/5\n",
      "1050/1050 [==============================] - 30s 28ms/step - loss: 0.0415\n"
     ]
    },
    {
     "data": {
      "text/plain": [
       "<keras.callbacks.History at 0x7f1ac8f48f10>"
      ]
     },
     "execution_count": 6,
     "metadata": {},
     "output_type": "execute_result"
    }
   ],
   "source": [
    "model.fit(X_train, y_train, epochs=5)"
   ]
  },
  {
   "cell_type": "code",
   "execution_count": 7,
   "id": "c8bc930c",
   "metadata": {
    "execution": {
     "iopub.execute_input": "2022-09-30T19:44:30.238293Z",
     "iopub.status.busy": "2022-09-30T19:44:30.237816Z",
     "iopub.status.idle": "2022-09-30T19:44:40.238415Z",
     "shell.execute_reply": "2022-09-30T19:44:40.236865Z"
    },
    "papermill": {
     "duration": 10.174586,
     "end_time": "2022-09-30T19:44:40.241548",
     "exception": false,
     "start_time": "2022-09-30T19:44:30.066962",
     "status": "completed"
    },
    "tags": []
   },
   "outputs": [
    {
     "name": "stdout",
     "output_type": "stream",
     "text": [
      "1050/1050 [==============================] - 10s 9ms/step - loss: 0.0237\n"
     ]
    },
    {
     "data": {
      "text/plain": [
       "0.023725520819425583"
      ]
     },
     "execution_count": 7,
     "metadata": {},
     "output_type": "execute_result"
    }
   ],
   "source": [
    "model.evaluate(X_train, y_train)"
   ]
  },
  {
   "cell_type": "code",
   "execution_count": 8,
   "id": "b94ce9da",
   "metadata": {
    "execution": {
     "iopub.execute_input": "2022-09-30T19:44:40.603022Z",
     "iopub.status.busy": "2022-09-30T19:44:40.602540Z",
     "iopub.status.idle": "2022-09-30T19:44:49.592862Z",
     "shell.execute_reply": "2022-09-30T19:44:49.591293Z"
    },
    "papermill": {
     "duration": 9.17522,
     "end_time": "2022-09-30T19:44:49.597157",
     "exception": false,
     "start_time": "2022-09-30T19:44:40.421937",
     "status": "completed"
    },
    "tags": []
   },
   "outputs": [
    {
     "data": {
      "text/plain": [
       "0.9929464285714286"
      ]
     },
     "execution_count": 8,
     "metadata": {},
     "output_type": "execute_result"
    }
   ],
   "source": [
    "from sklearn import metrics\n",
    "train_predictions = pd.DataFrame(model.predict(X_train))\n",
    "train_predictions = train_predictions.idxmax(axis=1)\n",
    "metrics.accuracy_score(y_train, train_predictions) \n"
   ]
  },
  {
   "cell_type": "code",
   "execution_count": 9,
   "id": "17bdd6a9",
   "metadata": {
    "execution": {
     "iopub.execute_input": "2022-09-30T19:44:50.124860Z",
     "iopub.status.busy": "2022-09-30T19:44:50.124312Z",
     "iopub.status.idle": "2022-09-30T19:44:52.760878Z",
     "shell.execute_reply": "2022-09-30T19:44:52.759612Z"
    },
    "papermill": {
     "duration": 2.914596,
     "end_time": "2022-09-30T19:44:52.763565",
     "exception": false,
     "start_time": "2022-09-30T19:44:49.848969",
     "status": "completed"
    },
    "tags": []
   },
   "outputs": [
    {
     "data": {
      "text/plain": [
       "0.9842857142857143"
      ]
     },
     "execution_count": 9,
     "metadata": {},
     "output_type": "execute_result"
    }
   ],
   "source": [
    "test_predictions = pd.DataFrame(model.predict(X_test))\n",
    "test_predictions = test_predictions.idxmax(axis=1)\n",
    "metrics.accuracy_score(y_test, test_predictions) \n"
   ]
  },
  {
   "cell_type": "code",
   "execution_count": 10,
   "id": "888a166a",
   "metadata": {
    "execution": {
     "iopub.execute_input": "2022-09-30T19:44:53.115248Z",
     "iopub.status.busy": "2022-09-30T19:44:53.114789Z",
     "iopub.status.idle": "2022-09-30T19:44:55.709367Z",
     "shell.execute_reply": "2022-09-30T19:44:55.708085Z"
    },
    "papermill": {
     "duration": 2.773164,
     "end_time": "2022-09-30T19:44:55.712570",
     "exception": false,
     "start_time": "2022-09-30T19:44:52.939406",
     "status": "completed"
    },
    "tags": []
   },
   "outputs": [],
   "source": [
    "test_file = \"/kaggle/input/digit-recognizer/test.csv\"\n",
    "test = pd.read_csv(test_file)\n",
    "imageid = test.index.values + 1\n",
    "test = tf.reshape(test, [28000,28,28,1])"
   ]
  },
  {
   "cell_type": "code",
   "execution_count": 11,
   "id": "01708844",
   "metadata": {
    "execution": {
     "iopub.execute_input": "2022-09-30T19:44:56.063017Z",
     "iopub.status.busy": "2022-09-30T19:44:56.062574Z",
     "iopub.status.idle": "2022-09-30T19:45:03.347836Z",
     "shell.execute_reply": "2022-09-30T19:45:03.346810Z"
    },
    "papermill": {
     "duration": 7.4643,
     "end_time": "2022-09-30T19:45:03.350616",
     "exception": false,
     "start_time": "2022-09-30T19:44:55.886316",
     "status": "completed"
    },
    "tags": []
   },
   "outputs": [],
   "source": [
    "predictions = model.predict(test)\n",
    "predictions = pd.DataFrame(predictions)\n",
    "predictions = predictions.idxmax(axis=1)"
   ]
  },
  {
   "cell_type": "code",
   "execution_count": 12,
   "id": "aa06b6ef",
   "metadata": {
    "execution": {
     "iopub.execute_input": "2022-09-30T19:45:03.699040Z",
     "iopub.status.busy": "2022-09-30T19:45:03.698207Z",
     "iopub.status.idle": "2022-09-30T19:45:03.737310Z",
     "shell.execute_reply": "2022-09-30T19:45:03.735387Z"
    },
    "papermill": {
     "duration": 0.217188,
     "end_time": "2022-09-30T19:45:03.740454",
     "exception": false,
     "start_time": "2022-09-30T19:45:03.523266",
     "status": "completed"
    },
    "tags": []
   },
   "outputs": [],
   "source": [
    "output = pd.DataFrame({'ImageId': imageid, 'Label': predictions},)\n",
    "output.to_csv('submission.csv', index=False)"
   ]
  },
  {
   "cell_type": "code",
   "execution_count": null,
   "id": "a665076c",
   "metadata": {
    "papermill": {
     "duration": 0.179316,
     "end_time": "2022-09-30T19:45:04.097273",
     "exception": false,
     "start_time": "2022-09-30T19:45:03.917957",
     "status": "completed"
    },
    "tags": []
   },
   "outputs": [],
   "source": []
  },
  {
   "cell_type": "markdown",
   "id": "dd0973b6",
   "metadata": {
    "papermill": {
     "duration": 0.255597,
     "end_time": "2022-09-30T19:45:04.529703",
     "exception": false,
     "start_time": "2022-09-30T19:45:04.274106",
     "status": "completed"
    },
    "tags": []
   },
   "source": []
  }
 ],
 "metadata": {
  "kernelspec": {
   "display_name": "Python 3",
   "language": "python",
   "name": "python3"
  },
  "language_info": {
   "codemirror_mode": {
    "name": "ipython",
    "version": 3
   },
   "file_extension": ".py",
   "mimetype": "text/x-python",
   "name": "python",
   "nbconvert_exporter": "python",
   "pygments_lexer": "ipython3",
   "version": "3.7.12"
  },
  "papermill": {
   "default_parameters": {},
   "duration": 214.874542,
   "end_time": "2022-09-30T19:45:08.197125",
   "environment_variables": {},
   "exception": null,
   "input_path": "__notebook__.ipynb",
   "output_path": "__notebook__.ipynb",
   "parameters": {},
   "start_time": "2022-09-30T19:41:33.322583",
   "version": "2.3.4"
  }
 },
 "nbformat": 4,
 "nbformat_minor": 5
}
